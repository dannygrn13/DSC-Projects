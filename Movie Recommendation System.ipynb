{
 "cells": [
  {
   "cell_type": "code",
   "execution_count": 203,
   "id": "0a7466ea",
   "metadata": {},
   "outputs": [],
   "source": [
    "# Import libraries needed\n",
    "import pandas as pd"
   ]
  },
  {
   "cell_type": "code",
   "execution_count": 204,
   "id": "5d9a8684",
   "metadata": {},
   "outputs": [],
   "source": [
    "# Reads CSV files and assigns variable\n",
    "movies_df = pd.read_csv(\"movies.csv\")\n",
    "ratings_df = pd.read_csv(\"ratings.csv\")"
   ]
  },
  {
   "cell_type": "code",
   "execution_count": 206,
   "id": "14f588ef",
   "metadata": {},
   "outputs": [],
   "source": [
    "# Split the genres column by \"|\" and create a list of genres for each movie\n",
    "movies_df['genre_list'] = movies_df['genres'].str.split('|')"
   ]
  },
  {
   "cell_type": "code",
   "execution_count": 208,
   "id": "6698b5c3",
   "metadata": {},
   "outputs": [],
   "source": [
    "# Get the unique list of genres\n",
    "unique_genres = set(g for genres in movies_df['genre_list'] for g in genres)"
   ]
  },
  {
   "cell_type": "code",
   "execution_count": 209,
   "id": "ce7f6a34",
   "metadata": {},
   "outputs": [],
   "source": [
    "# Create binary indicator variables for each genre\n",
    "for genre in unique_genres:\n",
    "    movies_df[genre] = movies_df['genre_list'].apply(lambda x: 1 if genre in x else 0)"
   ]
  },
  {
   "cell_type": "code",
   "execution_count": 210,
   "id": "0568b166",
   "metadata": {},
   "outputs": [],
   "source": [
    "# Drop unnecessary columns\n",
    "movies_df.drop(['genres', 'genre_list'], axis = 1, inplace = True)"
   ]
  },
  {
   "cell_type": "code",
   "execution_count": 211,
   "id": "d03638f7",
   "metadata": {},
   "outputs": [],
   "source": [
    "# Calculate average rating for each movieId\n",
    "average_ratings = ratings_df.groupby('movieId')['rating'].mean().reset_index()"
   ]
  },
  {
   "cell_type": "code",
   "execution_count": 212,
   "id": "dee6e65c",
   "metadata": {},
   "outputs": [],
   "source": [
    "# Merge average_ratings with movies_df using movieId column\n",
    "movies_df = pd.merge(movies_df, average_ratings, on = 'movieId', how = 'left')"
   ]
  },
  {
   "cell_type": "code",
   "execution_count": 213,
   "id": "b4830b30",
   "metadata": {},
   "outputs": [],
   "source": [
    "# Rename the rating column to average rating\n",
    "movies_df.rename(columns = {'rating': 'average_rating'}, inplace = True)"
   ]
  },
  {
   "cell_type": "code",
   "execution_count": 214,
   "id": "6c00720a",
   "metadata": {},
   "outputs": [],
   "source": [
    "# Extract the year from the title column\n",
    "movies_df['Year Published'] = movies_df['title'].str.extract(r'\\((\\d{4})\\)')"
   ]
  },
  {
   "cell_type": "code",
   "execution_count": 215,
   "id": "1394e37a",
   "metadata": {},
   "outputs": [],
   "source": [
    "# Remove the year from the 'title' column\n",
    "movies_df['title'] = movies_df['title'].str.replace(r'\\s*\\(\\d{4}\\)', '', regex = True)"
   ]
  },
  {
   "cell_type": "code",
   "execution_count": 216,
   "id": "ea3c7840",
   "metadata": {},
   "outputs": [],
   "source": [
    "def find_similar_movies(input_title, movies_df):\n",
    "    # Convert input title to lowercase\n",
    "    input_title = input_title.lower()\n",
    "\n",
    "    # Find the row corresponding to the input movie title\n",
    "    input_movie = movies_df.loc[movies_df['title'].str.lower() == input_title]\n",
    "    if input_movie.empty:\n",
    "        print(\"Movie not found.\")\n",
    "        return\n",
    "\n",
    "    # Extract genres of the input movie\n",
    "    input_genres = input_movie.iloc[0, 2:-2].tolist()  # Convert to list\n",
    "\n",
    "    # Calculate similarity score for each movie\n",
    "    movies_df['similarity_score'] = movies_df.apply(lambda row: sum([a and b for a, b in zip(input_genres, row[2:-2].tolist())]) / sum([a or b for a, b in zip(input_genres, row[2:-2].tolist())]), axis = 1)\n",
    "\n",
    "    # Filter out input movie from the DataFrame\n",
    "    movies_df = movies_df[movies_df['title'].str.lower() != input_title]\n",
    "\n",
    "    # Sort movies by similarity score and average rating\n",
    "    similar_movies = movies_df.sort_values(by = ['similarity_score', 'average_rating'], ascending = [False, False])\n",
    "\n",
    "    # Display top 10 similar movies\n",
    "    print(\"Top 10 similar movies to\", input_title, \":\")\n",
    "    print(similar_movies[['title', 'average_rating']].head(10))"
   ]
  },
  {
   "cell_type": "code",
   "execution_count": 217,
   "id": "9c485118",
   "metadata": {},
   "outputs": [
    {
     "name": "stdout",
     "output_type": "stream",
     "text": [
      "Enter a movie title: toy story\n"
     ]
    }
   ],
   "source": [
    "# Ask for user input\n",
    "input_title = input(\"Enter a movie title: \")"
   ]
  },
  {
   "cell_type": "code",
   "execution_count": 218,
   "id": "5a13955f",
   "metadata": {},
   "outputs": [
    {
     "name": "stdout",
     "output_type": "stream",
     "text": [
      "Top 10 similar movies to toy story :\n",
      "                            title  average_rating\n",
      "52826  Tangled: Before Ever After        4.000000\n",
      "43614                       Moana        3.866667\n",
      "4780               Monsters, Inc.        3.854325\n",
      "3021                  Toy Story 2        3.818480\n",
      "3912    Emperor's New Groove, The        3.661517\n",
      "22353              Boxtrolls, The        3.560606\n",
      "28245              Brother Bear 2        3.428571\n",
      "12969     Tale of Despereaux, The        3.350000\n",
      "2203                         Antz        3.260504\n",
      "59335                Missing Link        3.250000\n"
     ]
    }
   ],
   "source": [
    "# Call the function to find similar movies\n",
    "find_similar_movies(input_title, movies_df)"
   ]
  },
  {
   "cell_type": "raw",
   "id": "f4db2428",
   "metadata": {},
   "source": []
  }
 ],
 "metadata": {
  "kernelspec": {
   "display_name": "Python 3 (ipykernel)",
   "language": "python",
   "name": "python3"
  },
  "language_info": {
   "codemirror_mode": {
    "name": "ipython",
    "version": 3
   },
   "file_extension": ".py",
   "mimetype": "text/x-python",
   "name": "python",
   "nbconvert_exporter": "python",
   "pygments_lexer": "ipython3",
   "version": "3.11.5"
  }
 },
 "nbformat": 4,
 "nbformat_minor": 5
}
